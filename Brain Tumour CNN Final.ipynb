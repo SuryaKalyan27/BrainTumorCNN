{
 "cells": [
  {
   "cell_type": "code",
   "execution_count": 1,
   "id": "e9047b8e",
   "metadata": {},
   "outputs": [],
   "source": [
    "import tensorflow as tf \n",
    "from tensorflow.keras.models import Sequential \n",
    "from tensorflow.keras.layers import Dense, Dropout, Activation, Flatten, Conv2D, MaxPooling2D\n",
    "import pickle \n",
    "import pandas as pd \n",
    "import cv2\n",
    "import os\n",
    "import matplotlib.pyplot as plt\n",
    "import numpy as np \n",
    "from sklearn.metrics import confusion_matrix\n",
    "from sklearn.model_selection import train_test_split\n",
    "import itertools\n",
    "import random \n",
    "\n",
    "DATADIR = \"/Users/suryakalyanaraman/Desktop/Brain_Tumour_data\"\n",
    "categories = ['glioma','meningioma','notumor','pituitary']\n",
    "\n",
    "image_data =[]\n",
    "IMG_SIZE = 50\n",
    "\n",
    "def create_image_data():\n",
    "    for category in categories:\n",
    "        path = os.path.join(DATADIR, category) \n",
    "        class_num = categories.index(category)\n",
    "        #Get the classification 0=glioma | 1=meningioma | 2=no tumor | 3=pituitary\n",
    "        for img in os.listdir(path):\n",
    "            try:\n",
    "                img_array = cv2.imread(os.path.join(path,img),cv2.IMREAD_GRAYSCALE)\n",
    "                new_array = cv2.resize(img_array, (IMG_SIZE, IMG_SIZE))\n",
    "                image_data.append([new_array, class_num])\n",
    "                \n",
    "            except Exception as e:\n",
    "                pass\n",
    "\n",
    "create_image_data()\n",
    "\n",
    "random.shuffle(image_data)\n",
    "\n",
    "X = []\n",
    "y = []\n",
    "\n",
    "\n",
    "for features,label in image_data:\n",
    "    X.append(features)\n",
    "    y.append(label)\n",
    "\n",
    "X = np.array(X).reshape(-1, IMG_SIZE, IMG_SIZE, 1)\n",
    "\n",
    "X = X/255.0\n",
    "\n",
    "X = np.array(X)\n",
    "y = np.array(y)\n",
    "\n",
    "X_train, X_test, y_train, y_test = train_test_split(X, y, stratify=y, train_size=0.95, test_size=0.05)"
   ]
  },
  {
   "cell_type": "code",
   "execution_count": 2,
   "id": "bcbcf650",
   "metadata": {
    "scrolled": true
   },
   "outputs": [
    {
     "name": "stdout",
     "output_type": "stream",
     "text": [
      "SHAPE OF TRAINING IMAGE DATA : (6671, 50, 50, 1)\n",
      "SHAPE OF TESTING IMAGE DATA : (352, 50, 50, 1)\n",
      "SHAPE OF TRAINING LABELS : (6671,)\n",
      "SHAPE OF TESTING LABELS : (352,)\n"
     ]
    }
   ],
   "source": [
    "print(f'SHAPE OF TRAINING IMAGE DATA : {X_train.shape}')\n",
    "print(f'SHAPE OF TESTING IMAGE DATA : {X_test.shape}')\n",
    "print(f'SHAPE OF TRAINING LABELS : {y_train.shape}')\n",
    "print(f'SHAPE OF TESTING LABELS : {y_test.shape}')"
   ]
  },
  {
   "cell_type": "markdown",
   "id": "2f38e46a",
   "metadata": {},
   "source": [
    "# Creating the Model \n"
   ]
  },
  {
   "cell_type": "code",
   "execution_count": 3,
   "id": "9cc7bdc2",
   "metadata": {},
   "outputs": [
    {
     "name": "stdout",
     "output_type": "stream",
     "text": [
      "Metal device set to: Apple M1 Pro\n",
      "Epoch 1/15\n"
     ]
    },
    {
     "name": "stderr",
     "output_type": "stream",
     "text": [
      "2022-03-30 21:13:32.317278: I tensorflow/core/common_runtime/pluggable_device/pluggable_device_factory.cc:305] Could not identify NUMA node of platform GPU ID 0, defaulting to 0. Your kernel may not have been built with NUMA support.\n",
      "2022-03-30 21:13:32.317391: I tensorflow/core/common_runtime/pluggable_device/pluggable_device_factory.cc:271] Created TensorFlow device (/job:localhost/replica:0/task:0/device:GPU:0 with 0 MB memory) -> physical PluggableDevice (device: 0, name: METAL, pci bus id: <undefined>)\n",
      "2022-03-30 21:13:32.425398: W tensorflow/core/platform/profile_utils/cpu_utils.cc:128] Failed to get CPU frequency: 0 Hz\n"
     ]
    },
    {
     "name": "stdout",
     "output_type": "stream",
     "text": [
      "  4/668 [..............................] - ETA: 11s - loss: 1.3830 - accuracy: 0.3250 "
     ]
    },
    {
     "name": "stderr",
     "output_type": "stream",
     "text": [
      "2022-03-30 21:13:32.597532: I tensorflow/core/grappler/optimizers/custom_graph_optimizer_registry.cc:113] Plugin optimizer for device_type GPU is enabled.\n"
     ]
    },
    {
     "name": "stdout",
     "output_type": "stream",
     "text": [
      "668/668 [==============================] - 4s 6ms/step - loss: 0.6966 - accuracy: 0.7180 - val_loss: 0.5929 - val_accuracy: 0.7670\n",
      "Epoch 2/15\n",
      "  1/668 [..............................] - ETA: 7s - loss: 0.8140 - accuracy: 0.5000"
     ]
    },
    {
     "name": "stderr",
     "output_type": "stream",
     "text": [
      "2022-03-30 21:13:36.745029: I tensorflow/core/grappler/optimizers/custom_graph_optimizer_registry.cc:113] Plugin optimizer for device_type GPU is enabled.\n"
     ]
    },
    {
     "name": "stdout",
     "output_type": "stream",
     "text": [
      "668/668 [==============================] - 4s 6ms/step - loss: 0.3875 - accuracy: 0.8594 - val_loss: 0.4050 - val_accuracy: 0.8636\n",
      "Epoch 3/15\n",
      "668/668 [==============================] - 4s 6ms/step - loss: 0.2638 - accuracy: 0.9033 - val_loss: 0.2710 - val_accuracy: 0.8949\n",
      "Epoch 4/15\n",
      "668/668 [==============================] - 4s 6ms/step - loss: 0.1780 - accuracy: 0.9331 - val_loss: 0.2516 - val_accuracy: 0.9119\n",
      "Epoch 5/15\n",
      "668/668 [==============================] - 4s 6ms/step - loss: 0.1327 - accuracy: 0.9514 - val_loss: 0.1842 - val_accuracy: 0.9347\n",
      "Epoch 6/15\n",
      "668/668 [==============================] - 4s 6ms/step - loss: 0.0901 - accuracy: 0.9714 - val_loss: 0.1767 - val_accuracy: 0.9489\n",
      "Epoch 7/15\n",
      "668/668 [==============================] - 4s 6ms/step - loss: 0.0669 - accuracy: 0.9802 - val_loss: 0.1445 - val_accuracy: 0.9574\n",
      "Epoch 8/15\n",
      "668/668 [==============================] - 4s 6ms/step - loss: 0.0498 - accuracy: 0.9847 - val_loss: 0.1462 - val_accuracy: 0.9574\n",
      "Epoch 9/15\n",
      "668/668 [==============================] - 4s 6ms/step - loss: 0.0451 - accuracy: 0.9868 - val_loss: 0.1602 - val_accuracy: 0.9688\n",
      "Epoch 10/15\n",
      "668/668 [==============================] - 4s 6ms/step - loss: 0.0408 - accuracy: 0.9856 - val_loss: 0.1654 - val_accuracy: 0.9574\n",
      "Epoch 11/15\n",
      "668/668 [==============================] - 4s 6ms/step - loss: 0.0313 - accuracy: 0.9889 - val_loss: 0.1372 - val_accuracy: 0.9688\n",
      "Epoch 12/15\n",
      "668/668 [==============================] - 4s 6ms/step - loss: 0.0338 - accuracy: 0.9886 - val_loss: 0.1441 - val_accuracy: 0.9716\n",
      "Epoch 13/15\n",
      "668/668 [==============================] - 4s 6ms/step - loss: 0.0180 - accuracy: 0.9937 - val_loss: 0.2181 - val_accuracy: 0.9602\n",
      "Epoch 14/15\n",
      "668/668 [==============================] - 4s 6ms/step - loss: 0.0367 - accuracy: 0.9889 - val_loss: 0.1508 - val_accuracy: 0.9659\n",
      "Epoch 15/15\n",
      "668/668 [==============================] - 4s 6ms/step - loss: 0.0233 - accuracy: 0.9918 - val_loss: 0.1735 - val_accuracy: 0.9602\n",
      "11/11 [==============================] - 0s 6ms/step - loss: 0.1735 - accuracy: 0.9602\n",
      "0.1735287457704544 0.9602273106575012\n"
     ]
    },
    {
     "name": "stderr",
     "output_type": "stream",
     "text": [
      "2022-03-30 21:14:33.741912: I tensorflow/core/grappler/optimizers/custom_graph_optimizer_registry.cc:113] Plugin optimizer for device_type GPU is enabled.\n"
     ]
    },
    {
     "data": {
      "image/png": "[encoded data removed]",
      "text/plain": [
       "<Figure size 432x288 with 1 Axes>"
      ]
     },
     "metadata": {
      "needs_background": "light"
     },
     "output_type": "display_data"
    }
   ],
   "source": [
    "model = Sequential()\n",
    "\n",
    "model.add(Conv2D(32, (3, 3),input_shape = X.shape[1:]))\n",
    "model.add(Activation(\"relu\"))\n",
    "model.add(MaxPooling2D(pool_size =(2,2)))\n",
    "\n",
    "model.add(Conv2D(64, (3, 3)))\n",
    "model.add(Activation(\"relu\"))\n",
    "model.add(MaxPooling2D(pool_size =(2,2)))\n",
    "\n",
    "model.add(Conv2D(128, (3, 3)))\n",
    "model.add(Activation(\"relu\"))\n",
    "model.add(MaxPooling2D(pool_size =(2,2)))\n",
    "\n",
    "model.add(Flatten())\n",
    "#This Converts a 3D feature map into a 1D feature vector \n",
    "          \n",
    "model.add(Dense(units=4, activation='softmax'))\n",
    "\n",
    "model.compile(loss=\"sparse_categorical_crossentropy\",\n",
    "             optimizer=\"adam\",\n",
    "             metrics=[\"accuracy\"])\n",
    "\n",
    "history = model.fit(X_train, y_train, validation_data=(X_test, y_test), epochs=15, batch_size=10)\n",
    "\n",
    "val_loss, val_acc = model.evaluate(X_test, y_test)\n",
    "print(val_loss, val_acc)\n",
    "\n",
    "plt.plot(history.history['accuracy'], label='accuracy')\n",
    "plt.plot(history.history['val_accuracy'], label='validation accuracy')\n",
    "\n",
    "plt.xlabel('Epoch')\n",
    "plt.ylabel('Accuracy')\n",
    "plt.legend(loc='lower right')\n",
    "plt.show()"
   ]
  },
  {
   "cell_type": "code",
   "execution_count": 17,
   "id": "33f2a132",
   "metadata": {},
   "outputs": [
    {
     "name": "stdout",
     "output_type": "stream",
     "text": [
      "11/11 [==============================] - 0s 5ms/step - loss: 0.1735 - accuracy: 0.9602\n",
      "LOSS : 0.1735287457704544\n",
      "ACCURACY : 0.9602273106575012\n"
     ]
    }
   ],
   "source": [
    "predictions = model.evaluate(X_test,y_test)\n",
    "print(f'LOSS : {predictions[0]}')\n",
    "print(f'ACCURACY : {predictions[1]}')"
   ]
  },
  {
   "cell_type": "code",
   "execution_count": 18,
   "id": "65ee648a",
   "metadata": {},
   "outputs": [],
   "source": [
    "predictions = model.predict(x=X_test, verbose=0)\n",
    "rounded_predictions = np.argmax(predictions, axis=-1)\n",
    "cm = confusion_matrix(y_true=y_test, y_pred=rounded_predictions)\n"
   ]
  },
  {
   "cell_type": "code",
   "execution_count": 19,
   "id": "d469e211",
   "metadata": {},
   "outputs": [
    {
     "data": {
      "image/png": "[encoded data removed]",
      "text/plain": [
       "<Figure size 432x288 with 2 Axes>"
      ]
     },
     "metadata": {
      "needs_background": "light"
     },
     "output_type": "display_data"
    }
   ],
   "source": [
    "def plot_confusion_matrix(cm, classes, normalize=False, title='Confusion Matrix', cmap=plt.cm.Blues):\n",
    "    plt.imshow(cm, interpolation='nearest', cmap=cmap)\n",
    "    plt.title(title)\n",
    "    plt.colorbar()\n",
    "    tick_marks = np.arange(len(classes))\n",
    "    plt.xticks(tick_marks, classes, rotation=45)\n",
    "    plt.yticks(tick_marks, classes)\n",
    "\n",
    "    thresh = cm.max() / 2.\n",
    "    for i, j in itertools.product(range(cm.shape[0]), range(cm.shape[1])):\n",
    "        plt.text(j, i, cm[i, j],\n",
    "                 horizontalalignment=\"center\",\n",
    "                 color=\"white\" if cm[i, j] > thresh else \"black\")\n",
    "    plt.tight_layout()\n",
    "    plt.ylabel('True label')\n",
    "    plt.xlabel('Predicted label')\n",
    "    plt.show()\n",
    "\n",
    "cm_plot_labels = [\"glioma\", \"meningioma\", \"none\", \"pituitary\"]\n",
    "plot_confusion_matrix(cm=cm, classes=cm_plot_labels, title=\"Confusion Matrix\")\n",
    "plt.show()"
   ]
  },
  {
   "cell_type": "code",
   "execution_count": null,
   "id": "bf2b2734",
   "metadata": {},
   "outputs": [],
   "source": []
  }
 ],
 "metadata": {
  "kernelspec": {
   "display_name": "Python 3 (ipykernel)",
   "language": "python",
   "name": "python3"
  },
  "language_info": {
   "codemirror_mode": {
    "name": "ipython",
    "version": 3
   },
   "file_extension": ".py",
   "mimetype": "text/x-python",
   "name": "python",
   "nbconvert_exporter": "python",
   "pygments_lexer": "ipython3",
   "version": "3.9.0"
  }
 },
 "nbformat": 4,
 "nbformat_minor": 5
}
